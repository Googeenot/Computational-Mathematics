{
 "cells": [
  {
   "cell_type": "markdown",
   "id": "0b5d91d0",
   "metadata": {},
   "source": [
    "## Задача 1"
   ]
  },
  {
   "cell_type": "code",
   "execution_count": 43,
   "id": "9cd79240",
   "metadata": {},
   "outputs": [
    {
     "name": "stdout",
     "output_type": "stream",
     "text": [
      "[1.1  1.3  1.25 1.2  1.   1.3  1.2 ]\n",
      "1.1928571428571428\n"
     ]
    }
   ],
   "source": [
    "import numpy as np\n",
    "y = np.array([1.1, 1.3, 1.25, 1.2, 1.0, 1.3, 1.2])\n",
    "y0 = y.mean()\n",
    "print(y)\n",
    "print(y0)"
   ]
  },
  {
   "cell_type": "markdown",
   "id": "b5d56ab0",
   "metadata": {},
   "source": [
    "## Задача 2"
   ]
  },
  {
   "cell_type": "code",
   "execution_count": 23,
   "id": "5e02aaf6",
   "metadata": {},
   "outputs": [
    {
     "name": "stdout",
     "output_type": "stream",
     "text": [
      "I\n",
      "x    11.000000\n",
      "y     4.127269\n",
      "dtype: float64\n",
      "          x         y\n",
      "x  1.000000  0.816421\n",
      "y  0.816421  1.000000\n",
      "II\n",
      "x    11.000000\n",
      "y     4.127629\n",
      "dtype: float64\n",
      "          x         y\n",
      "x  1.000000  0.816237\n",
      "y  0.816237  1.000000\n",
      "III\n",
      "x    11.00000\n",
      "y     4.12262\n",
      "dtype: float64\n",
      "          x         y\n",
      "x  1.000000  0.816287\n",
      "y  0.816287  1.000000\n",
      "IV\n",
      "x    11.000000\n",
      "y     4.123249\n",
      "dtype: float64\n",
      "          x         y\n",
      "x  1.000000  0.816521\n",
      "y  0.816521  1.000000\n"
     ]
    }
   ],
   "source": [
    "import seaborn as sb\n",
    "pd = sb.load_dataset('anscombe')\n",
    "\n",
    "ds = ['I', 'II', 'III', 'IV']\n",
    "for i in ds:\n",
    "    df = pd[pd.dataset == i].loc[:, ['x', 'y']]\n",
    "    print(i)\n",
    "    print(df.var())\n",
    "    print(df.corr(method='pearson'))"
   ]
  },
  {
   "cell_type": "code",
   "execution_count": 30,
   "id": "195dd579",
   "metadata": {},
   "outputs": [
    {
     "data": {
      "image/png": "[encoded data removed]",
      "text/plain": [
       "<Figure size 432x288 with 4 Axes>"
      ]
     },
     "metadata": {
      "needs_background": "light"
     },
     "output_type": "display_data"
    }
   ],
   "source": [
    "import matplotlib.pyplot as plt\n",
    "for i in range(len(ds)):\n",
    "    df = pd[pd.dataset == ds[i]].loc[:, ['x', 'y']]\n",
    "    \n",
    "    plt.subplot(2, 2, i+1)\n",
    "    plt.scatter(df['x'], df['y'])\n",
    "    plt.title(ds[i])\n",
    "    plt.grid()\n",
    "\n",
    "plt.show()\n"
   ]
  },
  {
   "cell_type": "markdown",
   "id": "5969b1db",
   "metadata": {},
   "source": [
    "## Задача 4"
   ]
  },
  {
   "cell_type": "code",
   "execution_count": 40,
   "id": "013a647b",
   "metadata": {},
   "outputs": [
    {
     "name": "stdout",
     "output_type": "stream",
     "text": [
      "intercept: 0.001709855314689342\n",
      "slope: [0.24208213]\n"
     ]
    },
    {
     "data": {
      "image/png": "[encoded data removed]",
      "text/plain": [
       "<Figure size 432x288 with 1 Axes>"
      ]
     },
     "metadata": {
      "needs_background": "light"
     },
     "output_type": "display_data"
    }
   ],
   "source": [
    "import numpy as np\n",
    "from sklearn.linear_model import LinearRegression\n",
    "\n",
    "x = np.array([2.8672E-02, 2.2199E-02, 1.8180E-02, 1.5410E-02, 1.3325E-02]).reshape((-1, 1))\n",
    "y = np.array([8.64622E-03, 7.07473E-03, 6.13109E-03, 5.46607E-03, 4.90341E-03])\n",
    "\n",
    "model = LinearRegression().fit(x, y)\n",
    "print('intercept:', model.intercept_)\n",
    "print('slope:', model.coef_)\n",
    "y_pred = model.predict(x)\n",
    "\n",
    "plt.scatter(x, y, color = 'r', label=\"exp\", s = 20)\n",
    "plt.plot(x, y_pred, label=\"fit\")\n",
    "plt.grid()\n",
    "plt.show()"
   ]
  }
 ],
 "metadata": {
  "kernelspec": {
   "display_name": "Python 3",
   "language": "python",
   "name": "python3"
  },
  "language_info": {
   "codemirror_mode": {
    "name": "ipython",
    "version": 3
   },
   "file_extension": ".py",
   "mimetype": "text/x-python",
   "name": "python",
   "nbconvert_exporter": "python",
   "pygments_lexer": "ipython3",
   "version": "3.8.8"
  }
 },
 "nbformat": 4,
 "nbformat_minor": 5
}
