{
 "cells": [
  {
   "cell_type": "markdown",
   "id": "bebbcecf",
   "metadata": {},
   "source": [
    "## Ex. 1: NumPy"
   ]
  },
  {
   "cell_type": "code",
   "execution_count": 1,
   "id": "896a0b4b",
   "metadata": {},
   "outputs": [],
   "source": [
    "import numpy as np"
   ]
  },
  {
   "cell_type": "code",
   "execution_count": 47,
   "id": "77814316",
   "metadata": {},
   "outputs": [
    {
     "name": "stdout",
     "output_type": "stream",
     "text": [
      "[[2 3 2]\n",
      " [2 3 0]\n",
      " [1 4 1]]\n",
      "[[2 1 2 4]\n",
      " [0 0 1 1]\n",
      " [3 3 3 0]]\n"
     ]
    },
    {
     "data": {
      "text/plain": [
       "array([[2, 3, 2, 2, 1, 2, 4],\n",
       "       [2, 3, 0, 0, 0, 1, 1],\n",
       "       [1, 4, 1, 3, 3, 3, 0]])"
      ]
     },
     "execution_count": 47,
     "metadata": {},
     "output_type": "execute_result"
    }
   ],
   "source": [
    "#1\n",
    "A = np.random.randint(5, size = (3, 3))\n",
    "B = np.random.randint(5, size = (3, 4))\n",
    "print(A)\n",
    "print(B)\n",
    "np.hstack((A, B))"
   ]
  },
  {
   "cell_type": "code",
   "execution_count": 275,
   "id": "6dabc36a",
   "metadata": {},
   "outputs": [
    {
     "data": {
      "text/plain": [
       "array([4, 0, 3, 4, 3, 4, 0, 0, 0, 0])"
      ]
     },
     "execution_count": 275,
     "metadata": {},
     "output_type": "execute_result"
    }
   ],
   "source": [
    "#2\n",
    "M = np.random.randint(5, size = (3, 3))\n",
    "a = np.random.randint(3, size = 10)\n",
    "b = np.random.randint(3, size = 10)\n",
    "M[a, b]"
   ]
  },
  {
   "cell_type": "code",
   "execution_count": null,
   "id": "44260b44",
   "metadata": {},
   "outputs": [],
   "source": []
  },
  {
   "cell_type": "code",
   "execution_count": 24,
   "id": "41d4caa6",
   "metadata": {},
   "outputs": [
    {
     "name": "stdout",
     "output_type": "stream",
     "text": [
      "[2 4 2]\n",
      "8\n",
      "3\n"
     ]
    }
   ],
   "source": [
    "#3\n",
    "Tr = np.trace(A)\n",
    "N = np.count_nonzero(A.diagonal())\n",
    "print(Tr)\n",
    "print(N)"
   ]
  },
  {
   "cell_type": "code",
   "execution_count": 28,
   "id": "7f2d5942",
   "metadata": {},
   "outputs": [
    {
     "data": {
      "text/plain": [
       "(array([1, 2, 3, 4]), array([3, 4, 1, 1], dtype=int64))"
      ]
     },
     "execution_count": 28,
     "metadata": {},
     "output_type": "execute_result"
    }
   ],
   "source": [
    "#4\n",
    "np.unique(A, return_counts=True)"
   ]
  },
  {
   "cell_type": "code",
   "execution_count": 62,
   "id": "9d19f49b",
   "metadata": {},
   "outputs": [
    {
     "data": {
      "text/plain": [
       "array([[0, 0, 4, 2],\n",
       "       [3, 0, 1, 4],\n",
       "       [2, 0, 1, 0]])"
      ]
     },
     "execution_count": 62,
     "metadata": {},
     "output_type": "execute_result"
    }
   ],
   "source": [
    "#5\n",
    "n, m = 3, 4\n",
    "A = np.random.randint(5, size = (n, m))\n",
    "B = np.random.randint(5, size = (n, m))\n",
    "np.ma.MaskedArray(B, mask=np.ma.getmask(np.ma.masked_less(A, 0))).filled(0)"
   ]
  },
  {
   "cell_type": "code",
   "execution_count": 73,
   "id": "0183e226",
   "metadata": {},
   "outputs": [
    {
     "name": "stdout",
     "output_type": "stream",
     "text": [
      "[[0 1 2]\n",
      " [0 2 3]\n",
      " [0 4 4]]\n",
      "[[ 0.         -0.18856181 -0.13245324]\n",
      " [ 0.         -0.04714045  0.        ]\n",
      " [ 0.          0.23570226  0.13245324]]\n"
     ]
    }
   ],
   "source": [
    "#6\n",
    "M = np.matrix([[0, 1, 2], [0, 2, 3], [0, 4, 4]])\n",
    "print(M)\n",
    "mean = np.mean(M, axis=0)\n",
    "norm = np.sqrt(np.sum(M*M, axis=0))\n",
    "norm[norm==0] = 1\n",
    "M = (M - np.vstack(mean)) / np.vstack(norm)\n",
    "print(M)\n"
   ]
  },
  {
   "cell_type": "code",
   "execution_count": 202,
   "id": "5bb7714c",
   "metadata": {},
   "outputs": [
    {
     "data": {
      "text/plain": [
       "array([[27, 24, 20, 11],\n",
       "       [21, 16, 16,  9],\n",
       "       [27, 25, 24, 10],\n",
       "       [21, 19, 18,  8]])"
      ]
     },
     "execution_count": 202,
     "metadata": {},
     "output_type": "execute_result"
    }
   ],
   "source": [
    "#7\n",
    "A = np.random.randint(5, size = (3, 4))\n",
    "B = np.random.randint(5, size = (3, 4))\n",
    "A = A.transpose()\n",
    "np.dot(A, B, out=None)"
   ]
  },
  {
   "cell_type": "code",
   "execution_count": 96,
   "id": "7283713f",
   "metadata": {},
   "outputs": [
    {
     "data": {
      "image/png": "[encoded data removed]",
      "text/plain": [
       "<Figure size 720x504 with 1 Axes>"
      ]
     },
     "metadata": {
      "needs_background": "light"
     },
     "output_type": "display_data"
    }
   ],
   "source": [
    "#8\n",
    "import time\n",
    "import matplotlib.pyplot as plt\n",
    "\n",
    "def time_np(N):\n",
    "    INF = 10 ** 3\n",
    "    A = np.random.randint(INF, size = (N, N))\n",
    "    B = np.random.randint(INF, size = (N, N))\n",
    "    start = time.time()\n",
    "    np.matmul(A, B)\n",
    "    finish = time.time()\n",
    "    T = finish - start\n",
    "    return T\n",
    "\n",
    "\n",
    "def time_py(N):\n",
    "    INF = 10 ** 3\n",
    "    A = np.random.randint(INF, size = (N, N))\n",
    "    B = np.random.randint(INF, size = (N, N))\n",
    "    C = np.zeros((N, N))\n",
    "    start = time.time()\n",
    "    for i in range(N):\n",
    "        for j in range(N):\n",
    "            for k in range(N):\n",
    "                C[i][j] += A[i][k] * B[k][j]\n",
    "    finish = time.time()\n",
    "    T = finish - start\n",
    "    return T\n",
    "\n",
    "n_np = 400\n",
    "step_np = 1\n",
    "N_np = np.arange(0, n_np+1, step)\n",
    "T_np = np.array(list(map(time_np, N_np)))\n",
    "\n",
    "n_py = 50\n",
    "step_py = 1\n",
    "N_py = np.arange(0, n_py+1, step)\n",
    "T_py = np.array(list(map(time_py, N_py)))\n",
    "\n",
    "plt.figure(figsize=(10,7))\n",
    "plt.scatter(N_np, T_np, label=\"numpy\", color = 'r', s = 10)\n",
    "plt.scatter(N_py, T_py, label=\"python\", color = 'b', s = 10)\n",
    "\n",
    "plt.title(\"Time(N)\")\n",
    "plt.xlabel(\"N\")\n",
    "plt.ylabel(\"Time, $s$\")\n",
    "\n",
    "plt.legend()\n",
    "plt.grid()\n",
    "plt.show()"
   ]
  },
  {
   "cell_type": "markdown",
   "id": "6989dc7d",
   "metadata": {},
   "source": [
    "## Ex.2: Matplotlib"
   ]
  },
  {
   "cell_type": "code",
   "execution_count": 126,
   "id": "f687e6f3",
   "metadata": {},
   "outputs": [
    {
     "data": {
      "image/png": "[encoded data removed]",
      "text/plain": [
       "<Figure size 432x288 with 4 Axes>"
      ]
     },
     "metadata": {
      "needs_background": "light"
     },
     "output_type": "display_data"
    }
   ],
   "source": [
    "#1\n",
    "x = np.linspace(0, 2.0*np.pi, 101)\n",
    "y = np.sin(x)\n",
    "plt.subplot(2, 2, 1)\n",
    "plt.plot(x, y)\n",
    "plt.title(\"$sin(x)$\")\n",
    "plt.grid()\n",
    "\n",
    "x = np.linspace(0, 4, 101)\n",
    "y = np.exp(x)\n",
    "plt.subplot(2, 2, 2)\n",
    "plt.plot(x, y)\n",
    "plt.title(\"$exp(x)$\")\n",
    "plt.grid()\n",
    "\n",
    "x = np.linspace(0.01, 5, 101)\n",
    "y = np.log(x)\n",
    "plt.subplot(2, 2, 3)\n",
    "plt.plot(x, y)\n",
    "plt.title(\"$log(x)$\")\n",
    "plt.grid()\n",
    "\n",
    "x = np.linspace(0, 10, 101)\n",
    "y = np.tan(x)\n",
    "plt.subplot(2, 2, 4)\n",
    "plt.plot(x, y)\n",
    "plt.title(\"$tan(x)$\")\n",
    "plt.grid()\n",
    "\n",
    "\n",
    "plt.show()"
   ]
  },
  {
   "cell_type": "code",
   "execution_count": 192,
   "id": "f7b8ac2d",
   "metadata": {},
   "outputs": [
    {
     "data": {
      "image/png": "[encoded data removed]",
      "text/plain": [
       "<Figure size 432x288 with 1 Axes>"
      ]
     },
     "metadata": {
      "needs_background": "light"
     },
     "output_type": "display_data"
    }
   ],
   "source": [
    "#2\n",
    "x = [2.8672E-02, 2.2199E-02, 1.8180E-02, 1.5410E-02, 1.3325E-02]\n",
    "y = [8.64622E-03, 7.07473E-03, 6.13109E-03, 5.46607E-03, 4.90341E-03]\n",
    "xerror =[8.2209E-04, 4.9280E-04, 3.3052E-04, 2.3748E-04, 1.7756E-04]\n",
    "yerror = [1.62083E-04, 1.45726E-04, 1.38127E-04, 1.26587E-04, 1.22042E-04]\n",
    "\n",
    "plt.plot(x, result.best_fit, color = 'red', linewidth = 0.5)\n",
    "plt.errorbar(x, y, xerr=xerror, yerr=yerror, fmt='o-', ecolor='red')\n",
    "plt.show()"
   ]
  },
  {
   "cell_type": "code",
   "execution_count": 193,
   "id": "73072dfe",
   "metadata": {},
   "outputs": [
    {
     "data": {
      "image/png": "[encoded data removed]",
      "text/plain": [
       "<Figure size 432x288 with 1 Axes>"
      ]
     },
     "metadata": {
      "needs_background": "light"
     },
     "output_type": "display_data"
    }
   ],
   "source": [
    "#3\n",
    "plt.plot(x, result.best_fit, color = 'red', linewidth = 0.5)\n",
    "plt.errorbar(x, y, xerr=xerror, yerr=yerror, fmt='o-', ecolor='red')\n",
    "plt.xscale('log')\n",
    "plt.yscale('log')\n",
    "plt.show()"
   ]
  },
  {
   "cell_type": "markdown",
   "id": "e1e6172a",
   "metadata": {},
   "source": [
    "## Ex.3: Wigner semicircle"
   ]
  },
  {
   "cell_type": "code",
   "execution_count": 252,
   "id": "adcaeabf",
   "metadata": {},
   "outputs": [
    {
     "data": {
      "image/png": "[encoded data removed]",
      "text/plain": [
       "<Figure size 432x288 with 1 Axes>"
      ]
     },
     "metadata": {
      "needs_background": "light"
     },
     "output_type": "display_data"
    }
   ],
   "source": [
    "#one iteration\n",
    "N = 500\n",
    "A = np.random.normal(0, 1, (N, N))\n",
    "M = A + A.transpose()\n",
    "w, v = np.linalg.eig(M)\n",
    "\n",
    "plt.hist(w, bins=40)\n",
    "plt.grid()\n",
    "plt.show()"
   ]
  },
  {
   "cell_type": "code",
   "execution_count": 278,
   "id": "f3043363",
   "metadata": {},
   "outputs": [
    {
     "data": {
      "image/png": "[encoded data removed]",
      "text/plain": [
       "<Figure size 432x288 with 1 Axes>"
      ]
     },
     "metadata": {
      "needs_background": "light"
     },
     "output_type": "display_data"
    }
   ],
   "source": [
    "N = 500\n",
    "num = 50\n",
    "Q = np.zeros((num, 42))\n",
    "for i in range(num):\n",
    "    A = np.random.normal(1, 1, (N, N))\n",
    "    M = A + A.transpose()\n",
    "    w, v = np.linalg.eig(M)\n",
    "    hist, bin_edges = np.histogram(w, bins = np.arange(-63, 64, 3))\n",
    "    Q[i] = hist\n",
    "\n",
    "mean = np.mean(Q, axis=0)\n",
    "std = np.std(Q, axis=0)\n",
    "\n",
    "bincenters = np.arange(-61.5, 64, 3)\n",
    "plt.bar(bincenters, mean, width=3, yerr=std)\n",
    "plt.grid()\n",
    "plt.show()"
   ]
  },
  {
   "cell_type": "code",
   "execution_count": null,
   "id": "bc772ca3",
   "metadata": {},
   "outputs": [],
   "source": []
  }
 ],
 "metadata": {
  "kernelspec": {
   "display_name": "Python 3",
   "language": "python",
   "name": "python3"
  },
  "language_info": {
   "codemirror_mode": {
    "name": "ipython",
    "version": 3
   },
   "file_extension": ".py",
   "mimetype": "text/x-python",
   "name": "python",
   "nbconvert_exporter": "python",
   "pygments_lexer": "ipython3",
   "version": "3.8.8"
  }
 },
 "nbformat": 4,
 "nbformat_minor": 5
}
